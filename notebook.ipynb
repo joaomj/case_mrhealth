{
 "cells": [
  {
   "cell_type": "markdown",
   "metadata": {},
   "source": [
    "# Importando bibliotecas"
   ]
  },
  {
   "cell_type": "code",
   "execution_count": 2,
   "metadata": {},
   "outputs": [],
   "source": [
    "import pandas as pd\n",
    "import os\n",
    "# instalar openpyxl para leitura dos arquivos excel (https://stackoverflow.com/a/56992903)"
   ]
  },
  {
   "cell_type": "markdown",
   "metadata": {},
   "source": [
    "# Importando dados\n",
    "Construí paths relativos independentes do sistema operacional para facilitar o uso por outros usuários."
   ]
  },
  {
   "cell_type": "code",
   "execution_count": 3,
   "metadata": {},
   "outputs": [],
   "source": [
    "# Lendo arquivos excel\n",
    "\n",
    "# Obtendo o path deste notebook\n",
    "current_dir = os.getcwd()\n",
    "\n",
    "# Construindo o path para os arquivos excel\n",
    "itens_path = os.path.join(current_dir, 'dados', 'itens.xlsx')\n",
    "pedido_path = os.path.join(current_dir, 'dados', 'pedido.xlsx')\n",
    "itens_pedido_path = os.path.join(current_dir, 'dados', 'itens_pedido.xlsx')\n",
    "\n",
    "# Importando arquivos excel como dataframes\n",
    "df_itens = pd.read_excel(itens_path)\n",
    "df_pedido = pd.read_excel(pedido_path)\n",
    "df_itens_pedido = pd.read_excel(itens_pedido_path)"
   ]
  },
  {
   "cell_type": "markdown",
   "metadata": {},
   "source": [
    "## Preparação dos dataframes\n",
    "1. Renomear colunas de df_itens: 'ID_ITEM' e 'PRECO_ITEM'\n",
    "2. Dropar colunas inúteis de df_pedido e df_itens_pedido: 'Unnamed: 0'\n",
    "3. Adicionar coluna 'PRECO_ITEM' na tabela 'df_itens_pedido': utilize a tabela df_itens para isso (join?)\n",
    "4. Adicionar coluna 'PRECO_TOTAL_ITEM' na tabela df_itens_pedido: ela vai multiplicar PRECO_ITEM por QUANTIDADE\n",
    "5. Adicionar coluna 'DATA' na tabela df_itens_pedido: utilizar a tabela df_pedido (join?)\n",
    "6. PARA DESCOBRIR O PREÇO TOTAL POR PEDIDO:\n",
    "    1. Agrupar a tabela df_itens_pedido por ID_PEDIDO, gerando uma nova tabela com as seguintes colunas:\n",
    "        - ID_PEDIDO\n",
    "        - DATA\n",
    "        - PRECO_PEDIDO: é a soma das linhas em PRECO_TOTAL_ITEM para cada grupo de ID_PEDIDO\n",
    "    2. Essa nova tabela pode se chamar df_pedidos\n"
   ]
  },
  {
   "cell_type": "code",
   "execution_count": null,
   "metadata": {},
   "outputs": [],
   "source": [
    "# renomear colunas de df_itens\n",
    "df_itens = df_itens.rename(columns={\n",
    "    'Unnamed: 0': 'ID_ITEM',\n",
    "    0: 'PRECO_ITEM'\n",
    "})"
   ]
  },
  {
   "cell_type": "code",
   "execution_count": null,
   "metadata": {},
   "outputs": [],
   "source": [
    "# descartar colunas Unnamed de df_pedido e df_itens_pedido\n",
    "df_pedido = df_pedido.drop(columns='Unnamed: 0')\n",
    "df_itens_pedido = df_itens_pedido.drop(columns='Unnamed: 0')"
   ]
  },
  {
   "cell_type": "code",
   "execution_count": null,
   "metadata": {},
   "outputs": [],
   "source": [
    "# adicionar 'PRECO_ITEM' na tabela 'df_itens_pedido' utilizando a tabela 'df_itens'\n",
    "df_itens_pedido = df_itens_pedido.merge(df_itens, on='ID_ITEM')"
   ]
  },
  {
   "cell_type": "code",
   "execution_count": null,
   "metadata": {},
   "outputs": [],
   "source": [
    "# adicionar 'PRECO_TOTAL_ITEM' em 'df_itens_pedido'\n",
    "df_itens_pedido['PRECO_TOTAL_ITEM'] = df_itens_pedido['QUANTIDADE'] * df_itens_pedido['PRECO_ITEM']\n",
    "df_itens_pedido.head()"
   ]
  },
  {
   "cell_type": "code",
   "execution_count": 18,
   "metadata": {},
   "outputs": [
    {
     "data": {
      "text/html": [
       "<div>\n",
       "<style scoped>\n",
       "    .dataframe tbody tr th:only-of-type {\n",
       "        vertical-align: middle;\n",
       "    }\n",
       "\n",
       "    .dataframe tbody tr th {\n",
       "        vertical-align: top;\n",
       "    }\n",
       "\n",
       "    .dataframe thead th {\n",
       "        text-align: right;\n",
       "    }\n",
       "</style>\n",
       "<table border=\"1\" class=\"dataframe\">\n",
       "  <thead>\n",
       "    <tr style=\"text-align: right;\">\n",
       "      <th></th>\n",
       "      <th>ID_PEDIDO</th>\n",
       "      <th>ID_ITEM</th>\n",
       "      <th>QUANTIDADE</th>\n",
       "      <th>PRECO_ITEM</th>\n",
       "      <th>PRECO_TOTAL_ITEM</th>\n",
       "      <th>DATA</th>\n",
       "    </tr>\n",
       "  </thead>\n",
       "  <tbody>\n",
       "    <tr>\n",
       "      <th>0</th>\n",
       "      <td>120210601</td>\n",
       "      <td>item C</td>\n",
       "      <td>4</td>\n",
       "      <td>20</td>\n",
       "      <td>80</td>\n",
       "      <td>2021-06-01</td>\n",
       "    </tr>\n",
       "    <tr>\n",
       "      <th>1</th>\n",
       "      <td>220210601</td>\n",
       "      <td>item A</td>\n",
       "      <td>3</td>\n",
       "      <td>10</td>\n",
       "      <td>30</td>\n",
       "      <td>2021-06-01</td>\n",
       "    </tr>\n",
       "    <tr>\n",
       "      <th>2</th>\n",
       "      <td>320210604</td>\n",
       "      <td>item C</td>\n",
       "      <td>1</td>\n",
       "      <td>20</td>\n",
       "      <td>20</td>\n",
       "      <td>2021-06-04</td>\n",
       "    </tr>\n",
       "    <tr>\n",
       "      <th>3</th>\n",
       "      <td>420210604</td>\n",
       "      <td>item B</td>\n",
       "      <td>4</td>\n",
       "      <td>15</td>\n",
       "      <td>60</td>\n",
       "      <td>2021-06-04</td>\n",
       "    </tr>\n",
       "    <tr>\n",
       "      <th>4</th>\n",
       "      <td>420210604</td>\n",
       "      <td>item C</td>\n",
       "      <td>2</td>\n",
       "      <td>20</td>\n",
       "      <td>40</td>\n",
       "      <td>2021-06-04</td>\n",
       "    </tr>\n",
       "  </tbody>\n",
       "</table>\n",
       "</div>"
      ],
      "text/plain": [
       "   ID_PEDIDO ID_ITEM  QUANTIDADE  PRECO_ITEM  PRECO_TOTAL_ITEM        DATA\n",
       "0  120210601  item C           4          20                80  2021-06-01\n",
       "1  220210601  item A           3          10                30  2021-06-01\n",
       "2  320210604  item C           1          20                20  2021-06-04\n",
       "3  420210604  item B           4          15                60  2021-06-04\n",
       "4  420210604  item C           2          20                40  2021-06-04"
      ]
     },
     "execution_count": 18,
     "metadata": {},
     "output_type": "execute_result"
    }
   ],
   "source": [
    "# adicionar coluna 'DATA' em 'df_itens_pedido' utilizando 'df_pedido'\n",
    "df_itens_pedido = df_itens_pedido.merge(df_pedido, on='ID_PEDIDO')\n",
    "df_itens_pedido = df_itens_pedido.drop(columns='VALOR_TOTAL')\n",
    "# df_itens_pedido.head()"
   ]
  },
  {
   "cell_type": "code",
   "execution_count": 26,
   "metadata": {},
   "outputs": [
    {
     "data": {
      "text/html": [
       "<div>\n",
       "<style scoped>\n",
       "    .dataframe tbody tr th:only-of-type {\n",
       "        vertical-align: middle;\n",
       "    }\n",
       "\n",
       "    .dataframe tbody tr th {\n",
       "        vertical-align: top;\n",
       "    }\n",
       "\n",
       "    .dataframe thead th {\n",
       "        text-align: right;\n",
       "    }\n",
       "</style>\n",
       "<table border=\"1\" class=\"dataframe\">\n",
       "  <thead>\n",
       "    <tr style=\"text-align: right;\">\n",
       "      <th></th>\n",
       "      <th>ID_PEDIDO</th>\n",
       "      <th>VALOR_PEDIDO</th>\n",
       "      <th>DATA</th>\n",
       "    </tr>\n",
       "  </thead>\n",
       "  <tbody>\n",
       "    <tr>\n",
       "      <th>0</th>\n",
       "      <td>120210601</td>\n",
       "      <td>80</td>\n",
       "      <td>2021-06-01</td>\n",
       "    </tr>\n",
       "    <tr>\n",
       "      <th>1</th>\n",
       "      <td>220210601</td>\n",
       "      <td>30</td>\n",
       "      <td>2021-06-01</td>\n",
       "    </tr>\n",
       "    <tr>\n",
       "      <th>2</th>\n",
       "      <td>320210604</td>\n",
       "      <td>20</td>\n",
       "      <td>2021-06-04</td>\n",
       "    </tr>\n",
       "    <tr>\n",
       "      <th>3</th>\n",
       "      <td>420210604</td>\n",
       "      <td>100</td>\n",
       "      <td>2021-06-04</td>\n",
       "    </tr>\n",
       "    <tr>\n",
       "      <th>4</th>\n",
       "      <td>520210604</td>\n",
       "      <td>30</td>\n",
       "      <td>2021-06-04</td>\n",
       "    </tr>\n",
       "  </tbody>\n",
       "</table>\n",
       "</div>"
      ],
      "text/plain": [
       "   ID_PEDIDO  VALOR_PEDIDO        DATA\n",
       "0  120210601            80  2021-06-01\n",
       "1  220210601            30  2021-06-01\n",
       "2  320210604            20  2021-06-04\n",
       "3  420210604           100  2021-06-04\n",
       "4  520210604            30  2021-06-04"
      ]
     },
     "execution_count": 26,
     "metadata": {},
     "output_type": "execute_result"
    }
   ],
   "source": [
    "# verificando se cada pedido ocorre apenas em uma única data\n",
    "unique_dates = df_pedido.groupby(by='ID_PEDIDO')['DATA'].nunique()\n",
    "\n",
    "pedidos_varias_datas = unique_dates[unique_dates > 1]\n",
    "\n",
    "if not pedidos_varias_datas.empty:\n",
    "    print(\"Pedidos com múltiplas datas:\")\n",
    "    print(pedidos_varias_datas)\n",
    "else:\n",
    "    print(\"Todos os pedidos têm apenas datas diferentes\")\n",
    "\n",
    "\n",
    "# criar nova tabela agrupando todosos dados por pedido, exibindo o valor total por pedido = soma de 'PRECO_TOTAL_ITEM' por ID_PEDIDO\n",
    "df_pedidos = df_itens_pedido.groupby(by='ID_PEDIDO', as_index=False).agg({\n",
    "    'PRECO_TOTAL_ITEM':'sum',\n",
    "    'DATA': 'first'\n",
    "})\n",
    "df_pedidos = df_pedidos.rename(columns={'PRECO_TOTAL_ITEM':'VALOR_PEDIDO'})\n",
    "df_pedidos.head()"
   ]
  },
  {
   "cell_type": "markdown",
   "metadata": {},
   "source": [
    "Agora temos duas tabelas importantes no projeto:\n",
    "\n",
    "- *df_itens_pedido*, com informações detalhadas de itens por pedido, com preço do item, preço total, data\n",
    "- *df_pedidos*, com informações consolidadas dos pedidos feitos, com o valor total do pedido (que pode ter vários itens) e a data do pedido."
   ]
  },
  {
   "cell_type": "markdown",
   "metadata": {},
   "source": [
    "# Análise Exploratória (EDA)\n",
    "- Nomes de colunas\n",
    "- Dimensões\n",
    "- Tipos de dados\n",
    "- Estatística descritiva: \n",
    "    - Separar em dados categóricos e numéricos\n",
    "    - Analisar a distribuição dos dados\n",
    "    - Analisar a correlação dos dados (matriz de correlação): atenção porque nem todas as variáveis podem ser correlacionadas\n",
    "    - Verificar se existe sazonalidade"
   ]
  },
  {
   "cell_type": "markdown",
   "metadata": {},
   "source": [
    "# Testes de Hipóteses\n",
    "A partir da análise exploratória, levantar algumas hipóteses para obter insights dos dados. No contexto deste teste talvez esta etapa não será necessária."
   ]
  },
  {
   "cell_type": "markdown",
   "metadata": {},
   "source": [
    "# Featuring Engineering\n",
    "- Preparar e transformar os dados para o treinamento dos modelos de machine learning\n",
    "    - Standardization\n",
    "    - Rescaling\n",
    "    - Encoding\n",
    "    - Features Selection (seleção de atributos): se o número de atributos for grande, podemos utilizar um modelo para selecioná-los, como o Boruta.\n",
    "- Tratamento de dados (nomes de colunas, linhas vazias, duplicadas)\n",
    "\n",
    "(*ver https://towardsdatascience.com/lets-do-feature-engineering-5731efc3d7fe*)"
   ]
  },
  {
   "cell_type": "markdown",
   "metadata": {},
   "source": [
    "# Modelagem\n",
    "1. Identificar o tipo de problema: previsão (forecasting)\n",
    "2. Identificar tipos de modelos de machine learning adequados: para previsão são estes:\n",
    "    - Modelos de Time Series (ARIMA, SARIMA, Suavizações Exponenciais)\n",
    "    - Modelos de Regressão (linear, random forest, gradient boosting (XGBoost))\n",
    "3. Escolher modelo baseline: o mais simples possível.\n",
    "4. Separar dados em treino e teste\n",
    "5. Coletar performance para cada modelo escolhido: avaliar métricas adequadas p/os modelos escolhidos\n",
    "    - MAE\n",
    "    - MAPE\n",
    "    - RMSE\n",
    "    - Forecast Bias\n",
    "    - R-squared\n",
    "6. Escolhido o modelo, fazer o *fine tunning* dele (cuidado com overfitting)\n",
    "7. Coletar a performance do modelo otimizado (métricas e gráfico de previsão x resultado real) e salvar o modelo para não precisar treiná-lo novamente."
   ]
  }
 ],
 "metadata": {
  "kernelspec": {
   "display_name": "ds_env",
   "language": "python",
   "name": "python3"
  },
  "language_info": {
   "codemirror_mode": {
    "name": "ipython",
    "version": 3
   },
   "file_extension": ".py",
   "mimetype": "text/x-python",
   "name": "python",
   "nbconvert_exporter": "python",
   "pygments_lexer": "ipython3",
   "version": "3.12.4"
  }
 },
 "nbformat": 4,
 "nbformat_minor": 2
}
