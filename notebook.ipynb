{
 "cells": [
  {
   "cell_type": "markdown",
   "metadata": {},
   "source": [
    "# Importando bibliotecas"
   ]
  },
  {
   "cell_type": "code",
   "execution_count": 15,
   "metadata": {},
   "outputs": [],
   "source": [
    "import pandas as pd\n",
    "import os\n",
    "# instalar openpyxl para leitura dos arquivos excel (https://stackoverflow.com/a/56992903)"
   ]
  },
  {
   "cell_type": "markdown",
   "metadata": {},
   "source": [
    "# Importando dados\n",
    "Construí paths relativos independentes do sistema operacional para facilitar o uso por outros usuários."
   ]
  },
  {
   "cell_type": "code",
   "execution_count": 23,
   "metadata": {},
   "outputs": [],
   "source": [
    "# Lendo arquivos excel\n",
    "\n",
    "# Obtendo o path deste notebook\n",
    "current_dir = os.getcwd()\n",
    "\n",
    "# Construindo o path para os arquivos excel\n",
    "itens_path = os.path.join(current_dir, 'dados', 'itens.xlsx')\n",
    "pedido_path = os.path.join(current_dir, 'dados', 'pedido.xlsx')\n",
    "itens_pedido_path = os.path.join(current_dir, 'dados', 'itens_pedido.xlsx')\n",
    "\n",
    "# Importando arquivos excel como dataframes\n",
    "df_itens = pd.read_excel(itens_path)\n",
    "df_pedido = pd.read_excel(pedido_path)\n",
    "df_itens_pedido = pd.read_excel(itens_pedido_path)"
   ]
  }
 ],
 "metadata": {
  "kernelspec": {
   "display_name": "ds_env",
   "language": "python",
   "name": "python3"
  },
  "language_info": {
   "codemirror_mode": {
    "name": "ipython",
    "version": 3
   },
   "file_extension": ".py",
   "mimetype": "text/x-python",
   "name": "python",
   "nbconvert_exporter": "python",
   "pygments_lexer": "ipython3",
   "version": "3.12.4"
  }
 },
 "nbformat": 4,
 "nbformat_minor": 2
}
