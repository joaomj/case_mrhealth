{
 "cells": [
  {
   "cell_type": "markdown",
   "metadata": {},
   "source": [
    "# **Importando bibliotecas**"
   ]
  },
  {
   "cell_type": "code",
   "execution_count": 80,
   "metadata": {},
   "outputs": [],
   "source": [
    "import pandas as pd\n",
    "import os\n",
    "import matplotlib.pyplot as plt\n",
    "import seaborn as sns\n",
    "from scipy.stats import pearsonr\n",
    "\n",
    "# instalar openpyxl para leitura dos arquivos excel (https://stackoverflow.com/a/56992903)"
   ]
  },
  {
   "cell_type": "markdown",
   "metadata": {},
   "source": [
    "# **Importando dados**\n",
    "Construí paths relativos independentes do sistema operacional para facilitar o uso por outros usuários."
   ]
  },
  {
   "cell_type": "code",
   "execution_count": 3,
   "metadata": {},
   "outputs": [],
   "source": [
    "# Lendo arquivos excel\n",
    "\n",
    "# Obtendo o path deste notebook\n",
    "current_dir = os.getcwd()\n",
    "\n",
    "# Construindo o path para os arquivos excel\n",
    "itens_path = os.path.join(current_dir, 'dados', 'itens.xlsx')\n",
    "pedido_path = os.path.join(current_dir, 'dados', 'pedido.xlsx')\n",
    "itens_pedido_path = os.path.join(current_dir, 'dados', 'itens_pedido.xlsx')\n",
    "\n",
    "# Importando arquivos excel como dataframes\n",
    "df_itens = pd.read_excel(itens_path)\n",
    "df_pedido = pd.read_excel(pedido_path)\n",
    "df_itens_pedido = pd.read_excel(itens_pedido_path)"
   ]
  },
  {
   "cell_type": "markdown",
   "metadata": {},
   "source": [
    "## Preparação dos dataframes\n",
    "1. Renomear colunas de df_itens: 'ID_ITEM' e 'PRECO_ITEM'\n",
    "2. Dropar colunas inúteis de df_pedido e df_itens_pedido: 'Unnamed: 0'\n",
    "3. Adicionar coluna 'PRECO_ITEM' na tabela 'df_itens_pedido': utilize a tabela df_itens\n",
    "4. Adicionar coluna 'PRECO_TOTAL_ITEM' na tabela df_itens_pedido: ela vai multiplicar PRECO_ITEM por QUANTIDADE\n",
    "5. Adicionar coluna 'DATA' na tabela df_itens_pedido: utilizar a tabela df_pedido\n",
    "6. PARA DESCOBRIR O PREÇO TOTAL POR PEDIDO:\n",
    "    1. Agrupar a tabela df_itens_pedido por ID_PEDIDO, gerando uma nova tabela com as seguintes colunas:\n",
    "        - ID_PEDIDO\n",
    "        - DATA\n",
    "        - PRECO_PEDIDO: é a soma das linhas em PRECO_TOTAL_ITEM para cada grupo de ID_PEDIDO\n",
    "    2. Essa nova tabela pode se chamar df_pedidos\n"
   ]
  },
  {
   "cell_type": "code",
   "execution_count": null,
   "metadata": {},
   "outputs": [],
   "source": [
    "# renomear colunas de df_itens\n",
    "df_itens = df_itens.rename(columns={\n",
    "    'Unnamed: 0': 'ID_ITEM',\n",
    "    0: 'PRECO_ITEM'\n",
    "})"
   ]
  },
  {
   "cell_type": "code",
   "execution_count": null,
   "metadata": {},
   "outputs": [],
   "source": [
    "# descartar colunas Unnamed de df_pedido e df_itens_pedido\n",
    "df_pedido = df_pedido.drop(columns='Unnamed: 0')\n",
    "df_itens_pedido = df_itens_pedido.drop(columns='Unnamed: 0')"
   ]
  },
  {
   "cell_type": "code",
   "execution_count": null,
   "metadata": {},
   "outputs": [],
   "source": [
    "# adicionar 'PRECO_ITEM' na tabela 'df_itens_pedido' utilizando a tabela 'df_itens'\n",
    "df_itens_pedido = df_itens_pedido.merge(df_itens, on='ID_ITEM')"
   ]
  },
  {
   "cell_type": "code",
   "execution_count": null,
   "metadata": {},
   "outputs": [],
   "source": [
    "# adicionar 'PRECO_TOTAL_ITEM' em 'df_itens_pedido'\n",
    "df_itens_pedido['PRECO_TOTAL_ITEM'] = df_itens_pedido['QUANTIDADE'] * df_itens_pedido['PRECO_ITEM']\n",
    "df_itens_pedido.head()"
   ]
  },
  {
   "cell_type": "code",
   "execution_count": 18,
   "metadata": {},
   "outputs": [
    {
     "data": {
      "text/html": [
       "<div>\n",
       "<style scoped>\n",
       "    .dataframe tbody tr th:only-of-type {\n",
       "        vertical-align: middle;\n",
       "    }\n",
       "\n",
       "    .dataframe tbody tr th {\n",
       "        vertical-align: top;\n",
       "    }\n",
       "\n",
       "    .dataframe thead th {\n",
       "        text-align: right;\n",
       "    }\n",
       "</style>\n",
       "<table border=\"1\" class=\"dataframe\">\n",
       "  <thead>\n",
       "    <tr style=\"text-align: right;\">\n",
       "      <th></th>\n",
       "      <th>ID_PEDIDO</th>\n",
       "      <th>ID_ITEM</th>\n",
       "      <th>QUANTIDADE</th>\n",
       "      <th>PRECO_ITEM</th>\n",
       "      <th>PRECO_TOTAL_ITEM</th>\n",
       "      <th>DATA</th>\n",
       "    </tr>\n",
       "  </thead>\n",
       "  <tbody>\n",
       "    <tr>\n",
       "      <th>0</th>\n",
       "      <td>120210601</td>\n",
       "      <td>item C</td>\n",
       "      <td>4</td>\n",
       "      <td>20</td>\n",
       "      <td>80</td>\n",
       "      <td>2021-06-01</td>\n",
       "    </tr>\n",
       "    <tr>\n",
       "      <th>1</th>\n",
       "      <td>220210601</td>\n",
       "      <td>item A</td>\n",
       "      <td>3</td>\n",
       "      <td>10</td>\n",
       "      <td>30</td>\n",
       "      <td>2021-06-01</td>\n",
       "    </tr>\n",
       "    <tr>\n",
       "      <th>2</th>\n",
       "      <td>320210604</td>\n",
       "      <td>item C</td>\n",
       "      <td>1</td>\n",
       "      <td>20</td>\n",
       "      <td>20</td>\n",
       "      <td>2021-06-04</td>\n",
       "    </tr>\n",
       "    <tr>\n",
       "      <th>3</th>\n",
       "      <td>420210604</td>\n",
       "      <td>item B</td>\n",
       "      <td>4</td>\n",
       "      <td>15</td>\n",
       "      <td>60</td>\n",
       "      <td>2021-06-04</td>\n",
       "    </tr>\n",
       "    <tr>\n",
       "      <th>4</th>\n",
       "      <td>420210604</td>\n",
       "      <td>item C</td>\n",
       "      <td>2</td>\n",
       "      <td>20</td>\n",
       "      <td>40</td>\n",
       "      <td>2021-06-04</td>\n",
       "    </tr>\n",
       "  </tbody>\n",
       "</table>\n",
       "</div>"
      ],
      "text/plain": [
       "   ID_PEDIDO ID_ITEM  QUANTIDADE  PRECO_ITEM  PRECO_TOTAL_ITEM        DATA\n",
       "0  120210601  item C           4          20                80  2021-06-01\n",
       "1  220210601  item A           3          10                30  2021-06-01\n",
       "2  320210604  item C           1          20                20  2021-06-04\n",
       "3  420210604  item B           4          15                60  2021-06-04\n",
       "4  420210604  item C           2          20                40  2021-06-04"
      ]
     },
     "execution_count": 18,
     "metadata": {},
     "output_type": "execute_result"
    }
   ],
   "source": [
    "# adicionar coluna 'DATA' em 'df_itens_pedido' utilizando 'df_pedido'\n",
    "df_itens_pedido = df_itens_pedido.merge(df_pedido, on='ID_PEDIDO')\n",
    "df_itens_pedido = df_itens_pedido.drop(columns='VALOR_TOTAL')\n",
    "# df_itens_pedido.head()"
   ]
  },
  {
   "cell_type": "code",
   "execution_count": 26,
   "metadata": {},
   "outputs": [
    {
     "data": {
      "text/html": [
       "<div>\n",
       "<style scoped>\n",
       "    .dataframe tbody tr th:only-of-type {\n",
       "        vertical-align: middle;\n",
       "    }\n",
       "\n",
       "    .dataframe tbody tr th {\n",
       "        vertical-align: top;\n",
       "    }\n",
       "\n",
       "    .dataframe thead th {\n",
       "        text-align: right;\n",
       "    }\n",
       "</style>\n",
       "<table border=\"1\" class=\"dataframe\">\n",
       "  <thead>\n",
       "    <tr style=\"text-align: right;\">\n",
       "      <th></th>\n",
       "      <th>ID_PEDIDO</th>\n",
       "      <th>VALOR_PEDIDO</th>\n",
       "      <th>DATA</th>\n",
       "    </tr>\n",
       "  </thead>\n",
       "  <tbody>\n",
       "    <tr>\n",
       "      <th>0</th>\n",
       "      <td>120210601</td>\n",
       "      <td>80</td>\n",
       "      <td>2021-06-01</td>\n",
       "    </tr>\n",
       "    <tr>\n",
       "      <th>1</th>\n",
       "      <td>220210601</td>\n",
       "      <td>30</td>\n",
       "      <td>2021-06-01</td>\n",
       "    </tr>\n",
       "    <tr>\n",
       "      <th>2</th>\n",
       "      <td>320210604</td>\n",
       "      <td>20</td>\n",
       "      <td>2021-06-04</td>\n",
       "    </tr>\n",
       "    <tr>\n",
       "      <th>3</th>\n",
       "      <td>420210604</td>\n",
       "      <td>100</td>\n",
       "      <td>2021-06-04</td>\n",
       "    </tr>\n",
       "    <tr>\n",
       "      <th>4</th>\n",
       "      <td>520210604</td>\n",
       "      <td>30</td>\n",
       "      <td>2021-06-04</td>\n",
       "    </tr>\n",
       "  </tbody>\n",
       "</table>\n",
       "</div>"
      ],
      "text/plain": [
       "   ID_PEDIDO  VALOR_PEDIDO        DATA\n",
       "0  120210601            80  2021-06-01\n",
       "1  220210601            30  2021-06-01\n",
       "2  320210604            20  2021-06-04\n",
       "3  420210604           100  2021-06-04\n",
       "4  520210604            30  2021-06-04"
      ]
     },
     "execution_count": 26,
     "metadata": {},
     "output_type": "execute_result"
    }
   ],
   "source": [
    "# verificando se cada pedido ocorre apenas em uma única data\n",
    "unique_dates = df_pedido.groupby(by='ID_PEDIDO')['DATA'].nunique()\n",
    "\n",
    "pedidos_varias_datas = unique_dates[unique_dates > 1]\n",
    "\n",
    "if not pedidos_varias_datas.empty:\n",
    "    print(\"Pedidos com múltiplas datas:\")\n",
    "    print(pedidos_varias_datas)\n",
    "else:\n",
    "    print(\"Todos os pedidos têm apenas datas diferentes\")\n",
    "\n",
    "# criar nova tabela agrupando todosos dados por pedido, exibindo o valor total por pedido = soma de 'PRECO_TOTAL_ITEM' por ID_PEDIDO\n",
    "df_pedidos = df_itens_pedido.groupby(by='ID_PEDIDO', as_index=False).agg({\n",
    "    'PRECO_TOTAL_ITEM':'sum',\n",
    "    'DATA': 'first'\n",
    "})\n",
    "df_pedidos = df_pedidos.rename(columns={'PRECO_TOTAL_ITEM':'VALOR_PEDIDO'})\n",
    "df_pedidos.head()"
   ]
  },
  {
   "cell_type": "markdown",
   "metadata": {},
   "source": [
    "Agora temos duas tabelas importantes no projeto:\n",
    "\n",
    "- *df_itens_pedido*, com informações detalhadas de itens por pedido, com preço do item, preço total, data\n",
    "    - Esta tabela é a que será mais usada, pois o exercício pede uma previsão de demanda de itens.\n",
    "- *df_pedidos*, com informações consolidadas dos pedidos feitos, com o valor total do pedido (que pode ter vários itens) e a data do pedido.\n",
    "    - Esta tabela pode ser útil para previsão de faturamento da rede, pois consolida os dados de vendas."
   ]
  },
  {
   "cell_type": "markdown",
   "metadata": {},
   "source": [
    "# **Análise Exploratória (EDA)**\n",
    "Dos requisitos do projeto:\n",
    "\n",
    "*Realizar uma análise descritiva para entender o comportamento das vendas, identificar padrões sazonais e outras características relevantes.*\n",
    "\n",
    "- Nomes de colunas\n",
    "- Dimensões\n",
    "- Tipos de dados\n",
    "- Estatística descritiva: \n",
    "    - Separar em dados categóricos e numéricos\n",
    "    - Analisar a distribuição dos dados\n",
    "    - Analisar a correlação dos dados (matriz de correlação): atenção porque nem todas as variáveis podem ser correlacionadas\n"
   ]
  },
  {
   "cell_type": "code",
   "execution_count": 41,
   "metadata": {},
   "outputs": [
    {
     "name": "stdout",
     "output_type": "stream",
     "text": [
      "\n",
      "Informações gerais do dataset:\n",
      "<class 'pandas.core.frame.DataFrame'>\n",
      "RangeIndex: 295 entries, 0 to 294\n",
      "Data columns (total 6 columns):\n",
      " #   Column            Non-Null Count  Dtype \n",
      "---  ------            --------------  ----- \n",
      " 0   ID_PEDIDO         295 non-null    int64 \n",
      " 1   ID_ITEM           295 non-null    object\n",
      " 2   QUANTIDADE        295 non-null    int64 \n",
      " 3   PRECO_ITEM        295 non-null    int64 \n",
      " 4   PRECO_TOTAL_ITEM  295 non-null    int64 \n",
      " 5   DATA              295 non-null    object\n",
      "dtypes: int64(4), object(2)\n",
      "memory usage: 14.0+ KB\n",
      "\n",
      "Quantidade de valores únicos:\n"
     ]
    },
    {
     "data": {
      "text/plain": [
       "ID_PEDIDO           181\n",
       "ID_ITEM               4\n",
       "QUANTIDADE            5\n",
       "PRECO_ITEM            4\n",
       "PRECO_TOTAL_ITEM     13\n",
       "DATA                 81\n",
       "dtype: int64"
      ]
     },
     "execution_count": 41,
     "metadata": {},
     "output_type": "execute_result"
    }
   ],
   "source": [
    "# informações gerais da tabela: nomes de colunas, tamanho, tipos de dados\n",
    "print('\\nInformações gerais do dataset:')\n",
    "df_itens_pedido.info()\n",
    "\n",
    "# quantidade de valores únicos\n",
    "print('\\nQuantidade de valores únicos:')\n",
    "df_itens_pedido.nunique()"
   ]
  },
  {
   "cell_type": "code",
   "execution_count": 35,
   "metadata": {},
   "outputs": [
    {
     "name": "stdout",
     "output_type": "stream",
     "text": [
      "Estatísticas descritivas:\n"
     ]
    },
    {
     "data": {
      "text/html": [
       "<div>\n",
       "<style scoped>\n",
       "    .dataframe tbody tr th:only-of-type {\n",
       "        vertical-align: middle;\n",
       "    }\n",
       "\n",
       "    .dataframe tbody tr th {\n",
       "        vertical-align: top;\n",
       "    }\n",
       "\n",
       "    .dataframe thead th {\n",
       "        text-align: right;\n",
       "    }\n",
       "</style>\n",
       "<table border=\"1\" class=\"dataframe\">\n",
       "  <thead>\n",
       "    <tr style=\"text-align: right;\">\n",
       "      <th></th>\n",
       "      <th>QUANTIDADE</th>\n",
       "      <th>PRECO_ITEM</th>\n",
       "      <th>PRECO_TOTAL_ITEM</th>\n",
       "    </tr>\n",
       "  </thead>\n",
       "  <tbody>\n",
       "    <tr>\n",
       "      <th>count</th>\n",
       "      <td>295.00</td>\n",
       "      <td>295.00</td>\n",
       "      <td>295.00</td>\n",
       "    </tr>\n",
       "    <tr>\n",
       "      <th>mean</th>\n",
       "      <td>3.03</td>\n",
       "      <td>17.90</td>\n",
       "      <td>54.10</td>\n",
       "    </tr>\n",
       "    <tr>\n",
       "      <th>std</th>\n",
       "      <td>1.42</td>\n",
       "      <td>5.62</td>\n",
       "      <td>31.12</td>\n",
       "    </tr>\n",
       "    <tr>\n",
       "      <th>min</th>\n",
       "      <td>1.00</td>\n",
       "      <td>10.00</td>\n",
       "      <td>10.00</td>\n",
       "    </tr>\n",
       "    <tr>\n",
       "      <th>25%</th>\n",
       "      <td>2.00</td>\n",
       "      <td>15.00</td>\n",
       "      <td>30.00</td>\n",
       "    </tr>\n",
       "    <tr>\n",
       "      <th>50%</th>\n",
       "      <td>3.00</td>\n",
       "      <td>20.00</td>\n",
       "      <td>50.00</td>\n",
       "    </tr>\n",
       "    <tr>\n",
       "      <th>75%</th>\n",
       "      <td>4.00</td>\n",
       "      <td>25.00</td>\n",
       "      <td>75.00</td>\n",
       "    </tr>\n",
       "    <tr>\n",
       "      <th>max</th>\n",
       "      <td>5.00</td>\n",
       "      <td>25.00</td>\n",
       "      <td>125.00</td>\n",
       "    </tr>\n",
       "  </tbody>\n",
       "</table>\n",
       "</div>"
      ],
      "text/plain": [
       "       QUANTIDADE  PRECO_ITEM  PRECO_TOTAL_ITEM\n",
       "count      295.00      295.00            295.00\n",
       "mean         3.03       17.90             54.10\n",
       "std          1.42        5.62             31.12\n",
       "min          1.00       10.00             10.00\n",
       "25%          2.00       15.00             30.00\n",
       "50%          3.00       20.00             50.00\n",
       "75%          4.00       25.00             75.00\n",
       "max          5.00       25.00            125.00"
      ]
     },
     "execution_count": 35,
     "metadata": {},
     "output_type": "execute_result"
    }
   ],
   "source": [
    "# estatísticas descritivas da tabela\n",
    "print('Estatísticas descritivas:')\n",
    "df_itens_pedido.drop(columns='ID_PEDIDO').describe().round(2) # desconsidera coluna 'ID_PEDIDO'"
   ]
  },
  {
   "cell_type": "markdown",
   "metadata": {},
   "source": [
    "### Gráficos Descritivos"
   ]
  },
  {
   "cell_type": "code",
   "execution_count": 50,
   "metadata": {},
   "outputs": [
    {
     "name": "stdout",
     "output_type": "stream",
     "text": [
      "\n",
      "Histogramas:\n"
     ]
    },
    {
     "data": {
      "image/png": "[encoded data removed]",
      "text/plain": [
       "<Figure size 700x600 with 4 Axes>"
      ]
     },
     "metadata": {},
     "output_type": "display_data"
    }
   ],
   "source": [
    "# histogramas\n",
    "print('\\nHistogramas:')\n",
    "df_itens_pedido.drop(columns='ID_PEDIDO').hist(figsize=(7,6))\n",
    "plt.show()"
   ]
  },
  {
   "cell_type": "markdown",
   "metadata": {},
   "source": [
    "## Perguntas de Negócio\n",
    "\n",
    "*OBS: agrupar os dados por DATA, sendo que cada data representa uma linha, e cada linha tem: DATA, QTD_A, QTD_B, QTD_C, QTD_D. Essa tabela permite acompanhar a quantidade de cada item vendido no tempo, facilitando a análise de demanda.*\n",
    "\n",
    "1. Qual a tendência de demanda de cada item? E a demanda generalizada (por todos os itens)? Plotar gráficos.\n",
    "2. Qual o mês de maior demanda e de menor demanda para cada item?\n",
    "3. Qual o dia da semana de maior demanda e de menor demanda para cada item?\n",
    "4. Existe algum padrão de demanda: mensal, trimestral, anual?\n",
    "5. Qual item tem a maior demanda? E a menor?\n",
    "6. Como o preço influencia a demanda? Existe correlação entre o preço dos itens e a quantidade vendida?\n",
    "7. Características dos pedidos: qual o pedido médio (em termos de quantidade de itens e preço)?\n",
    "\n",
    "(*essas perguntas vão nos ajudar a estimar quando cada item é mais demandado, permitindo trabalhar o estoque com maior precisão. Além disso, saberemos se o preço impacta na demanda e quais ítens são mais demandados*)"
   ]
  },
  {
   "cell_type": "markdown",
   "metadata": {},
   "source": [
    "### 6. Como o preço influencia a demanda?"
   ]
  },
  {
   "cell_type": "code",
   "execution_count": 76,
   "metadata": {},
   "outputs": [
    {
     "data": {
      "text/html": [
       "<div>\n",
       "<style scoped>\n",
       "    .dataframe tbody tr th:only-of-type {\n",
       "        vertical-align: middle;\n",
       "    }\n",
       "\n",
       "    .dataframe tbody tr th {\n",
       "        vertical-align: top;\n",
       "    }\n",
       "\n",
       "    .dataframe thead th {\n",
       "        text-align: right;\n",
       "    }\n",
       "</style>\n",
       "<table border=\"1\" class=\"dataframe\">\n",
       "  <thead>\n",
       "    <tr style=\"text-align: right;\">\n",
       "      <th></th>\n",
       "      <th>PRECO_ITEM</th>\n",
       "      <th>QUANTIDADE</th>\n",
       "    </tr>\n",
       "  </thead>\n",
       "  <tbody>\n",
       "    <tr>\n",
       "      <th>0</th>\n",
       "      <td>10</td>\n",
       "      <td>211</td>\n",
       "    </tr>\n",
       "    <tr>\n",
       "      <th>1</th>\n",
       "      <td>15</td>\n",
       "      <td>217</td>\n",
       "    </tr>\n",
       "    <tr>\n",
       "      <th>2</th>\n",
       "      <td>20</td>\n",
       "      <td>216</td>\n",
       "    </tr>\n",
       "    <tr>\n",
       "      <th>3</th>\n",
       "      <td>25</td>\n",
       "      <td>251</td>\n",
       "    </tr>\n",
       "  </tbody>\n",
       "</table>\n",
       "</div>"
      ],
      "text/plain": [
       "   PRECO_ITEM  QUANTIDADE\n",
       "0          10         211\n",
       "1          15         217\n",
       "2          20         216\n",
       "3          25         251"
      ]
     },
     "execution_count": 76,
     "metadata": {},
     "output_type": "execute_result"
    }
   ],
   "source": [
    "# Agrupando os dados por preço do item.\n",
    "# A intenção é verificar a relação entre preço do item x quantidade vendida (demanda)\n",
    "df_precos = df_itens_pedido.groupby(by='PRECO_ITEM')['QUANTIDADE'].sum().reset_index()\n",
    "df_precos.head()"
   ]
  },
  {
   "cell_type": "code",
   "execution_count": 89,
   "metadata": {},
   "outputs": [
    {
     "name": "stdout",
     "output_type": "stream",
     "text": [
      "Coeficiente de Correlação (Pearson) entre PREÇO DO ITEM e QUANTIDADE PEDIDA: 0.8370\n"
     ]
    }
   ],
   "source": [
    "# Correlação (linear) entre preço do item e quantidade pedida\n",
    "corr_coef, _ = pearsonr(df_precos['PRECO_ITEM'], df_precos['QUANTIDADE']) # o uso de ', _' indica que descartamos outros valores retornados pela função. Queremos apenas o primeiro valor.\n",
    "print(f\"Coeficiente de Correlação (Pearson) entre PREÇO DO ITEM e QUANTIDADE PEDIDA: {corr_coef:.4f}\")"
   ]
  },
  {
   "cell_type": "code",
   "execution_count": 92,
   "metadata": {},
   "outputs": [
    {
     "data": {
      "image/png": "[encoded data removed]",
      "text/plain": [
       "<Figure size 400x300 with 1 Axes>"
      ]
     },
     "metadata": {},
     "output_type": "display_data"
    }
   ],
   "source": [
    "# Scatterplot para avaliar a linearidade entre preço dos itens e quantidade\n",
    "sns.set_theme(style=\"whitegrid\")\n",
    "plt.figure(figsize=(4, 3))\n",
    "ax = sns.regplot(x='QUANTIDADE', y='PRECO_ITEM', data=df_precos, ci=None, scatter_kws={'s': 50})"
   ]
  },
  {
   "cell_type": "markdown",
   "metadata": {},
   "source": [
    "Como se vê no scatter plot, os dados não são lineares. Há um outlier ali nos itens com preço de 25. É preciso tratar esse outlier antes de prosseguirmos na análise da relação entre essas 2 variáveis. A correlação precisará ser recalculada também."
   ]
  },
  {
   "cell_type": "markdown",
   "metadata": {},
   "source": [
    "# Featuring Engineering\n",
    "- Preparar e transformar os dados para o treinamento dos modelos de machine learning\n",
    "    - Standardization\n",
    "    - Rescaling\n",
    "    - Encoding\n",
    "    - Features Selection (seleção de atributos): se o número de atributos for grande, podemos utilizar um modelo para selecioná-los, como o Boruta.\n",
    "- Tratamento de dados (nomes de colunas, linhas vazias, duplicadas)\n",
    "\n",
    "(*ver https://towardsdatascience.com/lets-do-feature-engineering-5731efc3d7fe*)"
   ]
  },
  {
   "cell_type": "markdown",
   "metadata": {},
   "source": [
    "# Modelagem\n",
    "1. Identificar o tipo de problema: previsão (forecasting)\n",
    "2. Identificar tipos de modelos de machine learning adequados. Para previsão são estes:\n",
    "    - Modelos de Séries Temporais (ARIMA, SARIMA)\n",
    "    - Modelos de Regressão (linear, random forest, gradient boosting (XGBoost))\n",
    "3. Escolher modelo baseline: o mais simples possível (média)\n",
    "4. Separar dados em treino e teste\n",
    "5. Coletar performance para cada modelo escolhido: avaliar métricas adequadas p/os modelos escolhidos\n",
    "    - MAE\n",
    "    - MAPE\n",
    "    - RMSE\n",
    "    - Forecast Bias\n",
    "    - R-squared\n",
    "6. Escolhido o modelo, fazer o *fine tunning* dele (cuidado com overfitting)\n",
    "7. Coletar a performance do modelo otimizado (métricas e gráfico de previsão x resultado real) e salvar o modelo para não precisar treiná-lo novamente."
   ]
  }
 ],
 "metadata": {
  "kernelspec": {
   "display_name": "ds_env",
   "language": "python",
   "name": "python3"
  },
  "language_info": {
   "codemirror_mode": {
    "name": "ipython",
    "version": 3
   },
   "file_extension": ".py",
   "mimetype": "text/x-python",
   "name": "python",
   "nbconvert_exporter": "python",
   "pygments_lexer": "ipython3",
   "version": "3.12.4"
  }
 },
 "nbformat": 4,
 "nbformat_minor": 2
}
