{
 "cells": [
  {
   "cell_type": "markdown",
   "metadata": {},
   "source": [
    "# Importando bibliotecas"
   ]
  },
  {
   "cell_type": "code",
   "execution_count": 15,
   "metadata": {},
   "outputs": [],
   "source": [
    "import pandas as pd\n",
    "import os\n",
    "# instalar openpyxl para leitura dos arquivos excel (https://stackoverflow.com/a/56992903)"
   ]
  },
  {
   "cell_type": "markdown",
   "metadata": {},
   "source": [
    "# Importando dados\n",
    "Construí paths relativos independentes do sistema operacional para facilitar o uso por outros usuários."
   ]
  },
  {
   "cell_type": "code",
   "execution_count": 23,
   "metadata": {},
   "outputs": [],
   "source": [
    "# Lendo arquivos excel\n",
    "\n",
    "# Obtendo o path deste notebook\n",
    "current_dir = os.getcwd()\n",
    "\n",
    "# Construindo o path para os arquivos excel\n",
    "itens_path = os.path.join(current_dir, 'dados', 'itens.xlsx')\n",
    "pedido_path = os.path.join(current_dir, 'dados', 'pedido.xlsx')\n",
    "itens_pedido_path = os.path.join(current_dir, 'dados', 'itens_pedido.xlsx')\n",
    "\n",
    "# Importando arquivos excel como dataframes\n",
    "df_itens = pd.read_excel(itens_path)\n",
    "df_pedido = pd.read_excel(pedido_path)\n",
    "df_itens_pedido = pd.read_excel(itens_pedido_path)"
   ]
  },
  {
   "cell_type": "markdown",
   "metadata": {},
   "source": [
    "# Análise Exploratória (EDA)\n",
    "- Nomes de colunas\n",
    "- Dimensões\n",
    "- Tipos de dados\n",
    "- Estatística descritiva: \n",
    "    - Separar em dados categóricos e numéricos\n",
    "    - Analisar a distribuição dos dados\n",
    "    - Analisar a correlação dos dados (matriz de correlação): atenção porque nem todas as variáveis podem ser correlacionadas\n",
    "    - Verificar se existe sazonalidade"
   ]
  },
  {
   "cell_type": "markdown",
   "metadata": {},
   "source": [
    "# Testes de Hipóteses\n",
    "A partir da análise exploratória, levantar algumas hipóteses para obter insights dos dados. No contexto deste teste talvez esta etapa não será necessária."
   ]
  },
  {
   "cell_type": "markdown",
   "metadata": {},
   "source": [
    "# Featuring Engineering\n",
    "- Preparar e transformar os dados para o treinamento dos modelos de machine learning\n",
    "    - Standardization\n",
    "    - Rescaling\n",
    "    - Encoding\n",
    "    - Features Selection (seleção de atributos): se o número de atributos for grande, podemos utilizar um modelo para selecioná-los, como o Boruta.\n",
    "- Tratamento de dados (nomes de colunas, linhas vazias, duplicadas)\n",
    "\n",
    "(*ver https://towardsdatascience.com/lets-do-feature-engineering-5731efc3d7fe*)"
   ]
  },
  {
   "cell_type": "markdown",
   "metadata": {},
   "source": [
    "# Modelagem\n",
    "1. Identificar o tipo de problema: previsão (forecasting)\n",
    "2. Identificar tipos de modelos de machine learning adequados: para previsão são estes:\n",
    "    - Modelos de Time Series (ARIMA, SARIMA, Suavizações Exponenciais)\n",
    "    - Modelos de Regressão (linear, random forest, gradient boosting (XGBoost))\n",
    "3. Escolher modelo baseline: o mais simples possível.\n",
    "4. Separar dados em treino e teste\n",
    "5. Coletar performance para cada modelo escolhido: avaliar métricas adequadas p/os modelos escolhidos\n",
    "    - MAE\n",
    "    - MAPE\n",
    "    - RMSE\n",
    "    - Forecast Bias\n",
    "    - R-squared\n",
    "6. Escolhido o modelo, fazer o *fine tunning* dele (cuidado com overfitting)\n",
    "7. Coletar a performance do modelo otimizado (métricas e gráfico de previsão x resultado real) e salvar o modelo para não precisar treiná-lo novamente."
   ]
  }
 ],
 "metadata": {
  "kernelspec": {
   "display_name": "ds_env",
   "language": "python",
   "name": "python3"
  },
  "language_info": {
   "codemirror_mode": {
    "name": "ipython",
    "version": 3
   },
   "file_extension": ".py",
   "mimetype": "text/x-python",
   "name": "python",
   "nbconvert_exporter": "python",
   "pygments_lexer": "ipython3",
   "version": "3.12.4"
  }
 },
 "nbformat": 4,
 "nbformat_minor": 2
}
